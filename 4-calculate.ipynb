{
 "cells": [
  {
   "cell_type": "code",
   "execution_count": 1,
   "metadata": {},
   "outputs": [],
   "source": [
    "with open('4_complete.gml', 'r') as file:\n",
    "    lines = file.readlines()\n",
    "\n",
    "edges = {}\n",
    "current_edge = None\n",
    "\n",
    "def read_x_y(line):\n",
    "    # e.g., line = '\\t\\t\\t\\tpoint [ x 230.0000000000 y 540.0000000000 ]\\n'\n",
    "    # Extract x and y values without using re\n",
    "    start_index = line.find('x') + 1\n",
    "    end_index = line.find('y')\n",
    "    x_str = line[start_index:end_index].strip()\n",
    "    y_str = line[end_index + 1 : -3].strip()  # -3 to exclude the closing bracket and newline\n",
    "    # Convert to float\n",
    "    x = float(x_str)\n",
    "    y = float(y_str)\n",
    "    return(x, y)\n",
    "\n",
    "for line in lines:\n",
    "    if 'edge' in line:\n",
    "        current_edge = []\n",
    "        source=-1\n",
    "        dest=-1\n",
    "    elif 'source' in line and current_edge is not None:\n",
    "        source = int(line.split()[1])\n",
    "    elif 'target' in line and current_edge is not None:\n",
    "        dest = int(line.split()[1])\n",
    "    elif (']' in line) and (current_edge is not None) and (not ('point' in line)):\n",
    "        edges[(source, dest)]=current_edge\n",
    "        current_edge = None\n",
    "    elif 'point' in line and current_edge is not None:\n",
    "        # Extract coordinates of points in the line segment\n",
    "        coordinates = read_x_y(line)\n",
    "        current_edge.append( coordinates)\n"
   ]
  },
  {
   "cell_type": "code",
   "execution_count": 2,
   "metadata": {},
   "outputs": [
    {
     "data": {
      "text/plain": [
       "{(0, 1): [(230.0, 540.0), (120.0, 540.0), (120.0, 430.0)],\n",
       " (0, 2): [(330.0, 440.0), (330.0, 430.0)],\n",
       " (0, 3): [(430.0, 540.0), (440.0, 540.0), (440.0, 120.0), (430.0, 120.0)],\n",
       " (1, 2): [(220.0, 330.0), (230.0, 330.0)],\n",
       " (1, 3): [(120.0, 230.0), (120.0, 120.0), (230.0, 120.0)],\n",
       " (2, 3): [(330.0, 230.0), (330.0, 220.0)]}"
      ]
     },
     "execution_count": 2,
     "metadata": {},
     "output_type": "execute_result"
    }
   ],
   "source": [
    "edges"
   ]
  },
  {
   "cell_type": "markdown",
   "metadata": {},
   "source": [
    "calculate waveguide lengths"
   ]
  },
  {
   "cell_type": "code",
   "execution_count": 3,
   "metadata": {},
   "outputs": [
    {
     "name": "stdout",
     "output_type": "stream",
     "text": [
      "Edge from 0 to 1 has length: 220.0\n",
      "Edge from 0 to 2 has length: 10.0\n",
      "Edge from 0 to 3 has length: 440.0\n",
      "Edge from 1 to 2 has length: 10.0\n",
      "Edge from 1 to 3 has length: 220.0\n",
      "Edge from 2 to 3 has length: 10.0\n"
     ]
    }
   ],
   "source": [
    "def calculate_edge_length(points):\n",
    "    length = 0\n",
    "    for i in range(len(points) - 1):\n",
    "        x1, y1 = points[i][0], points[i][1]\n",
    "        x2, y2 = points[i + 1][0], points[i + 1][1]\n",
    "        length += abs(x2 - x1) + abs(y2 - y1)\n",
    "    return length\n",
    "\n",
    "edge_lengths={}\n",
    "for s_d, edge in edges.items():\n",
    "    length = calculate_edge_length(edge)\n",
    "    edge_lengths[s_d]=length\n",
    "    print(f\"Edge from {s_d[0]} to {s_d[1]} has length: {length}\")"
   ]
  },
  {
   "cell_type": "code",
   "execution_count": 4,
   "metadata": {},
   "outputs": [],
   "source": [
    "Tile_length = 200.0\n",
    "Tile_real_length = 30 #[mm]\n",
    "ratio=Tile_real_length/Tile_length\n",
    "for s_d in edge_lengths.keys():\n",
    "    edge_lengths[s_d]*=ratio \n",
    "    # now the unit of edge lengths is [mm]"
   ]
  },
  {
   "cell_type": "code",
   "execution_count": 5,
   "metadata": {},
   "outputs": [
    {
     "data": {
      "text/plain": [
       "{(0, 1): 33.0,\n",
       " (0, 2): 1.5,\n",
       " (0, 3): 66.0,\n",
       " (1, 2): 1.5,\n",
       " (1, 3): 33.0,\n",
       " (2, 3): 1.5}"
      ]
     },
     "execution_count": 5,
     "metadata": {},
     "output_type": "execute_result"
    }
   ],
   "source": [
    "edge_lengths"
   ]
  },
  {
   "cell_type": "markdown",
   "metadata": {},
   "source": [
    "calculate crossings on each waveguide"
   ]
  },
  {
   "cell_type": "code",
   "execution_count": 6,
   "metadata": {},
   "outputs": [
    {
     "name": "stdout",
     "output_type": "stream",
     "text": [
      "{(0, 1): 0, (0, 2): 0, (0, 3): 0, (1, 2): 0, (1, 3): 0, (2, 3): 0}\n"
     ]
    }
   ],
   "source": [
    "from typing import Dict, List, Tuple\n",
    "\n",
    "def count_crossings(edges: Dict[Tuple[int, int], List[Tuple[float, float]]]) -> Dict[Tuple[int, int], int]:\n",
    "    crossings_count = {}\n",
    "\n",
    "    # Function to check if two line segments intersect\n",
    "    def do_segments_intersect(x1, y1, x2, y2, x3, y3, x4, y4):\n",
    "        \"\"\"\n",
    "        Determine if two line segments intersect, given their endpoints (x1, y1), (x2, y2) and (x3, y3), (x4, y4).\n",
    "        \"\"\"\n",
    "        # calculate the direction vectors for each segment\n",
    "        dx1 = x2 - x1\n",
    "        dy1 = y2 - y1\n",
    "        dx2 = x4 - x3\n",
    "        dy2 = y4 - y3\n",
    "        # calculate the determinant\n",
    "        det = dx1*dy2 - dx2*dy1\n",
    "        # check if the determinant is zero\n",
    "        if det == 0:\n",
    "            return False\n",
    "        # calculate the inverse determinant\n",
    "        inv_det = 1 / det\n",
    "        # calculate the difference vectors for each segment\n",
    "        dx3 = x1 - x3\n",
    "        dy3 = y1 - y3\n",
    "        # calculate the parameters of the intersection point\n",
    "        t1 = (dx2*dy3 - dx3*dy2) * inv_det\n",
    "        t2 = (dx1*dy3 - dx3*dy1) * inv_det\n",
    "        # check if the intersection point lies within both segments\n",
    "        if 0 < t1 < 1 and 0 < t2 < 1:\n",
    "            return True\n",
    "        else:\n",
    "            return False\n",
    "\n",
    "    # Function to count crossings on a segment with all other segments\n",
    "    def count_crossings_on_segment(edge, segment_idx):\n",
    "        # source, destination = edge\n",
    "        segment = edges[edge][segment_idx: segment_idx+2]\n",
    "        crossings = 0\n",
    "\n",
    "        for other_edge, other_segments in edges.items():\n",
    "            if edge != other_edge:\n",
    "                for other_segment_idx in range(len(other_segments) - 1):\n",
    "                    if do_segments_intersect(edges[edge][segment_idx][0], edges[edge][segment_idx][1], \n",
    "                            edges[edge][segment_idx+1][0], edges[edge][segment_idx+1][1], \n",
    "                            edges[other_edge][other_segment_idx][0], edges[other_edge][other_segment_idx][1], \n",
    "                            edges[other_edge][other_segment_idx+1][0], edges[other_edge][other_segment_idx+1][1]):\n",
    "                        crossings += 1\n",
    "        return crossings\n",
    "\n",
    "    # Iterate through each edge and count crossings\n",
    "    for edge, waypoints in edges.items():\n",
    "        crossings_on_edge = 0\n",
    "\n",
    "        for segment_idx in range(len(waypoints) - 1):\n",
    "            crossings_on_edge += count_crossings_on_segment(edge, segment_idx)\n",
    "\n",
    "        crossings_count[edge] = crossings_on_edge\n",
    "\n",
    "    return crossings_count\n",
    "\n",
    "result = count_crossings(edges)\n",
    "print(result)\n"
   ]
  },
  {
   "cell_type": "code",
   "execution_count": 11,
   "metadata": {},
   "outputs": [
    {
     "name": "stdout",
     "output_type": "stream",
     "text": [
      "{(0, 1): 0, (0, 2): 0, (0, 3): 1, (1, 2): 1, (1, 3): 0, (2, 3): 0}\n"
     ]
    }
   ],
   "source": [
    "edges={(0, 1): [(230.0, 540.0), (120.0, 540.0), (120.0, 430.0)],\n",
    " (0, 2): [(330.0, 440.0), (330.0, 430.0)],\n",
    " (0, 3): [(430.0, 540.0), (440.0, 540.0), (440.0, 120.0), (430.0, 120.0)],\n",
    " (1, 2): [(220.0, 330.0), (441.0, 330.0)],\n",
    " (1, 3): [(120.0, 230.0), (120.0, 120.0), (230.0, 120.0)],\n",
    " (2, 3): [(330.0, 230.0), (330.0, 220.0)]}\n",
    "\n",
    "result = count_crossings(edges)\n",
    "print(result)"
   ]
  },
  {
   "cell_type": "code",
   "execution_count": null,
   "metadata": {},
   "outputs": [],
   "source": []
  }
 ],
 "metadata": {
  "kernelspec": {
   "display_name": "Python 3",
   "language": "python",
   "name": "python3"
  },
  "language_info": {
   "codemirror_mode": {
    "name": "ipython",
    "version": 3
   },
   "file_extension": ".py",
   "mimetype": "text/x-python",
   "name": "python",
   "nbconvert_exporter": "python",
   "pygments_lexer": "ipython3",
   "version": "3.10.12"
  }
 },
 "nbformat": 4,
 "nbformat_minor": 2
}
