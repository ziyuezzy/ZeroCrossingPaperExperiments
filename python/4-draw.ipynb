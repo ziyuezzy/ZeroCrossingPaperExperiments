{
 "cells": [
  {
   "cell_type": "code",
   "execution_count": 1,
   "metadata": {},
   "outputs": [
    {
     "name": "stderr",
     "output_type": "stream",
     "text": [
      "ogdf-python couldn't load OGDF. If you haven't installed OGDF globally to your system, please set environment variables OGDF_INSTALL_DIR or OGDF_BUILD_DIR. The current search path is:\n",
      ":/users/ziyzhang/gurobi/gurobi1002/linux64/lib:.:/users/ziyzhang/.local/lib/python3.10/site-packages/cppyy_backend/lib:/lib/x86_64-linux-gnu/tls/x86_64/x86_64:/lib/x86_64-linux-gnu/tls/x86_64:/lib/x86_64-linux-gnu/tls/x86_64:/lib/x86_64-linux-gnu/tls:/lib/x86_64-linux-gnu/x86_64/x86_64:/lib/x86_64-linux-gnu/x86_64:/lib/x86_64-linux-gnu/x86_64:/lib/x86_64-linux-gnu:/usr/lib/x86_64-linux-gnu/tls/x86_64/x86_64:/usr/lib/x86_64-linux-gnu/tls/x86_64:/usr/lib/x86_64-linux-gnu/tls/x86_64:/usr/lib/x86_64-linux-gnu/tls:/usr/lib/x86_64-linux-gnu/x86_64/x86_64:/usr/lib/x86_64-linux-gnu/x86_64:/usr/lib/x86_64-linux-gnu/x86_64:/usr/lib/x86_64-linux-gnu:/lib/tls/x86_64/x86_64:/lib/tls/x86_64:/lib/tls/x86_64:/lib/tls:/lib/x86_64/x86_64:/lib/x86_64:/lib/x86_64:/lib:/usr/lib/tls/x86_64/x86_64:/usr/lib/tls/x86_64:/usr/lib/tls/x86_64:/usr/lib/tls:/usr/lib/x86_64/x86_64:/usr/lib/x86_64:/usr/lib/x86_64:/usr/lib:/users/ziyzhang/.local/lib\n",
      "The current include path is:\n",
      "-I\"/users/ziyzhang/.local/lib/python3.10/site-packages/cppyy_backend/etc/\" -I\"/users/ziyzhang/.local/lib/python3.10/site-packages/cppyy_backend/etc//cling\" -I\"/users/ziyzhang/.local/lib/python3.10/site-packages/cppyy_backend/include/\" -I\"/usr/include/python3.10\" -I\"/users/ziyzhang/.local/lib/python3.10/site-packages/../../../include/python3.10\" -I\"/users/ziyzhang/.local/include\" -I\"/users/ziyzhang/.local/lib/python3.10/site-packages/ogdf_python\"\n"
     ]
    },
    {
     "ename": "ImportError",
     "evalue": "Failed to load header file \"ogdf/basic/internal/config_autogen.h\"\ninput_line_21:1:10: fatal error: 'ogdf/basic/internal/config_autogen.h' file not found\n#include \"ogdf/basic/internal/config_autogen.h\"\n         ^~~~~~~~~~~~~~~~~~~~~~~~~~~~~~~~~~~~~~\n",
     "output_type": "error",
     "traceback": [
      "\u001b[0;31m---------------------------------------------------------------------------\u001b[0m",
      "\u001b[0;31mImportError\u001b[0m                               Traceback (most recent call last)",
      "Cell \u001b[0;32mIn[1], line 1\u001b[0m\n\u001b[0;32m----> 1\u001b[0m \u001b[38;5;28;01mfrom\u001b[39;00m \u001b[38;5;21;01mogdf_python\u001b[39;00m \u001b[38;5;28;01mimport\u001b[39;00m \u001b[38;5;241m*\u001b[39m\n\u001b[1;32m      3\u001b[0m Tile_length \u001b[38;5;241m=\u001b[39m \u001b[38;5;241m200.0\u001b[39m\n\u001b[1;32m      5\u001b[0m cppinclude(\u001b[38;5;124m\"\u001b[39m\u001b[38;5;124mogdf/fileformats/GraphIO.h\u001b[39m\u001b[38;5;124m\"\u001b[39m)\n",
      "File \u001b[0;32m~/.local/lib/python3.10/site-packages/ogdf_python/__init__.py:1\u001b[0m\n\u001b[0;32m----> 1\u001b[0m \u001b[38;5;28;01mfrom\u001b[39;00m \u001b[38;5;21;01mogdf_python\u001b[39;00m\u001b[38;5;21;01m.\u001b[39;00m\u001b[38;5;21;01mloader\u001b[39;00m \u001b[38;5;28;01mimport\u001b[39;00m \u001b[38;5;241m*\u001b[39m\n\u001b[1;32m      3\u001b[0m ogdf  \u001b[38;5;66;03m# keep imports in this order\u001b[39;00m\n\u001b[1;32m      5\u001b[0m \u001b[38;5;28;01mfrom\u001b[39;00m \u001b[38;5;21;01mogdf_python\u001b[39;00m\u001b[38;5;21;01m.\u001b[39;00m\u001b[38;5;21;01mutils\u001b[39;00m \u001b[38;5;28;01mimport\u001b[39;00m \u001b[38;5;241m*\u001b[39m\n",
      "File \u001b[0;32m~/.local/lib/python3.10/site-packages/ogdf_python/loader.py:31\u001b[0m\n\u001b[1;32m     29\u001b[0m cppyy\u001b[38;5;241m.\u001b[39mcppdef(\u001b[38;5;124m\"\u001b[39m\u001b[38;5;124m#define OGDF_INSTALL\u001b[39m\u001b[38;5;124m\"\u001b[39m)\n\u001b[1;32m     30\u001b[0m \u001b[38;5;28;01mtry\u001b[39;00m:\n\u001b[0;32m---> 31\u001b[0m     \u001b[43mcppyy\u001b[49m\u001b[38;5;241;43m.\u001b[39;49m\u001b[43minclude\u001b[49m\u001b[43m(\u001b[49m\u001b[38;5;124;43m\"\u001b[39;49m\u001b[38;5;124;43mogdf/basic/internal/config_autogen.h\u001b[39;49m\u001b[38;5;124;43m\"\u001b[39;49m\u001b[43m)\u001b[49m\n\u001b[1;32m     32\u001b[0m     cppyy\u001b[38;5;241m.\u001b[39minclude(\u001b[38;5;124m\"\u001b[39m\u001b[38;5;124mogdf/basic/internal/config.h\u001b[39m\u001b[38;5;124m\"\u001b[39m)\n\u001b[1;32m     33\u001b[0m     cppyy\u001b[38;5;241m.\u001b[39minclude(\u001b[38;5;124m\"\u001b[39m\u001b[38;5;124mogdf/basic/Graph.h\u001b[39m\u001b[38;5;124m\"\u001b[39m)\n",
      "File \u001b[0;32m~/.local/lib/python3.10/site-packages/cppyy/__init__.py:267\u001b[0m, in \u001b[0;36minclude\u001b[0;34m(header)\u001b[0m\n\u001b[1;32m    265\u001b[0m     errcode \u001b[38;5;241m=\u001b[39m gbl\u001b[38;5;241m.\u001b[39mgInterpreter\u001b[38;5;241m.\u001b[39mDeclare(\u001b[38;5;124m'\u001b[39m\u001b[38;5;124m#include \u001b[39m\u001b[38;5;124m\"\u001b[39m\u001b[38;5;132;01m%s\u001b[39;00m\u001b[38;5;124m\"\u001b[39m\u001b[38;5;124m'\u001b[39m \u001b[38;5;241m%\u001b[39m header)\n\u001b[1;32m    266\u001b[0m \u001b[38;5;28;01mif\u001b[39;00m \u001b[38;5;129;01mnot\u001b[39;00m errcode:\n\u001b[0;32m--> 267\u001b[0m     \u001b[38;5;28;01mraise\u001b[39;00m \u001b[38;5;167;01mImportError\u001b[39;00m(\u001b[38;5;124m'\u001b[39m\u001b[38;5;124mFailed to load header file \u001b[39m\u001b[38;5;124m\"\u001b[39m\u001b[38;5;132;01m%s\u001b[39;00m\u001b[38;5;124m\"\u001b[39m\u001b[38;5;132;01m%s\u001b[39;00m\u001b[38;5;124m'\u001b[39m \u001b[38;5;241m%\u001b[39m (header, err\u001b[38;5;241m.\u001b[39merr))\n\u001b[1;32m    268\u001b[0m \u001b[38;5;28;01mreturn\u001b[39;00m \u001b[38;5;28;01mTrue\u001b[39;00m\n",
      "\u001b[0;31mImportError\u001b[0m: Failed to load header file \"ogdf/basic/internal/config_autogen.h\"\ninput_line_21:1:10: fatal error: 'ogdf/basic/internal/config_autogen.h' file not found\n#include \"ogdf/basic/internal/config_autogen.h\"\n         ^~~~~~~~~~~~~~~~~~~~~~~~~~~~~~~~~~~~~~\n"
     ]
    }
   ],
   "source": [
    "from ogdf_python import *\n",
    "\n",
    "Tile_length = 200.0\n",
    "\n",
    "cppinclude(\"ogdf/fileformats/GraphIO.h\")\n",
    "cppinclude(\"ogdf/basic/graph_generators/deterministic.h\")\n",
    "cppinclude(\"ogdf/fileformats/GraphIO.h\")\n",
    "cppinclude(\"ogdf/orthogonal/OrthoLayout.h\")\n",
    "cppinclude(\"ogdf/planarity/EmbedderMinDepthMaxFaceLayers.h\")\n",
    "cppinclude(\"ogdf/planarity/PlanarSubgraphFast.h\")\n",
    "cppinclude(\"ogdf/planarity/PlanarizationLayout.h\")\n",
    "cppinclude(\"ogdf/planarity/SubgraphPlanarizer.h\")\n",
    "cppinclude(\"ogdf/planarity/VariableEmbeddingInserter.h\")\n",
    "\n",
    "# cppinclude(\"ogdf/layered/SugiyamaLayout.h\")\n",
    "\n",
    "ogdf.EdgeArrow\n",
    "\n",
    "G = ogdf.Graph()\n",
    "ogdf.completeGraph(G, 4)\n",
    "GA = ogdf.GraphAttributes(G, ogdf.GraphAttributes.all)\n",
    "# define graph attributes\n",
    "GA.directed=False\n",
    "\n",
    "for n in G.nodes:\n",
    "    GA.label[n] = \"%s\" % n.index()\n",
    "    GA.width[n] = Tile_length\n",
    "    GA.height[n] = Tile_length\n",
    "\n",
    "for e in G.edges:\n",
    "    GA.arrowType[e] =0\n",
    "\n",
    "# SL = ogdf.PlanarizationLayout()\n",
    "# SL.call(GA)\n",
    "# GA\n",
    "\n",
    "# Initialize layout components\n",
    "pl = ogdf.PlanarizationLayout()\n",
    "crossMin = ogdf.SubgraphPlanarizer()\n",
    "ps = ogdf.PlanarSubgraphFast[int]()\n",
    "ps.runs(100)\n",
    "ves = ogdf.VariableEmbeddingInserter()\n",
    "ves.removeReinsert(ogdf.RemoveReinsertType.All)\n",
    "\n",
    "# Set up PlanarizationLayout components\n",
    "crossMin.setSubgraph(ps)\n",
    "crossMin.setInserter(ves)\n",
    "pl.setCrossMin(crossMin)\n",
    "\n",
    "# emb = ogdf.EmbedderMinDepthMaxFaceLayers()\n",
    "# pl.setEmbedder(emb)\n",
    "\n",
    "ol = ogdf.OrthoLayout()\n",
    "ol.separation(10.0)\n",
    "ol.cOverhang(0.4)\n",
    "\n",
    "pl.setPlanarLayouter(ol)\n",
    "\n",
    "pl.call(GA)\n",
    "GA"
   ]
  },
  {
   "cell_type": "code",
   "execution_count": null,
   "metadata": {},
   "outputs": [
    {
     "data": {
      "text/plain": [
       "0"
      ]
     },
     "execution_count": 2,
     "metadata": {},
     "output_type": "execute_result"
    }
   ],
   "source": [
    "pl.numberOfCrossings()"
   ]
  },
  {
   "cell_type": "code",
   "execution_count": null,
   "metadata": {},
   "outputs": [
    {
     "data": {
      "text/plain": [
       "True"
      ]
     },
     "execution_count": 3,
     "metadata": {},
     "output_type": "execute_result"
    }
   ],
   "source": [
    "ogdf.GraphIO.write(GA, \"4_complete.gml\")"
   ]
  },
  {
   "cell_type": "code",
   "execution_count": null,
   "metadata": {},
   "outputs": [],
   "source": []
  }
 ],
 "metadata": {
  "kernelspec": {
   "display_name": "Python 3",
   "language": "python",
   "name": "python3"
  },
  "language_info": {
   "codemirror_mode": {
    "name": "ipython",
    "version": 3
   },
   "file_extension": ".py",
   "mimetype": "text/x-python",
   "name": "python",
   "nbconvert_exporter": "python",
   "pygments_lexer": "ipython3",
   "version": "3.10.13"
  }
 },
 "nbformat": 4,
 "nbformat_minor": 2
}
