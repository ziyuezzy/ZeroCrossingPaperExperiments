{
 "cells": [
  {
   "cell_type": "code",
   "execution_count": 1,
   "metadata": {},
   "outputs": [
    {
     "ename": "",
     "evalue": "",
     "output_type": "error",
     "traceback": [
      "\u001b[1;31mThe Kernel crashed while executing code in the the current cell or a previous cell. Please review the code in the cell(s) to identify a possible cause of the failure. Click <a href='https://aka.ms/vscodeJupyterKernelCrash'>here</a> for more info. View Jupyter <a href='command:jupyter.viewOutput'>log</a> for further details."
     ]
    }
   ],
   "source": [
    "from ogdf_python import *\n",
    "\n",
    "Tile_length = 200.0\n",
    "\n",
    "cppinclude(\"ogdf/fileformats/GraphIO.h\")\n",
    "cppinclude(\"ogdf/basic/graph_generators/deterministic.h\")\n",
    "cppinclude(\"ogdf/fileformats/GraphIO.h\")\n",
    "cppinclude(\"ogdf/orthogonal/OrthoLayout.h\")\n",
    "cppinclude(\"ogdf/planarity/EmbedderMinDepthMaxFaceLayers.h\")\n",
    "cppinclude(\"ogdf/planarity/PlanarSubgraphFast.h\")\n",
    "cppinclude(\"ogdf/planarity/PlanarizationLayout.h\")\n",
    "cppinclude(\"ogdf/planarity/SubgraphPlanarizer.h\")\n",
    "cppinclude(\"ogdf/planarity/VariableEmbeddingInserter.h\")\n",
    "\n",
    "\n",
    "# cppinclude(\"ogdf/layered/SugiyamaLayout.h\")\n",
    "\n",
    "ogdf.EdgeArrow\n",
    "\n",
    "G = ogdf.Graph()\n",
    "ogdf.completeGraph(G, 64)\n",
    "GA = ogdf.GraphAttributes(G, ogdf.GraphAttributes.all)\n",
    "# define graph attributes\n",
    "GA.directed=False\n",
    "\n",
    "for n in G.nodes:\n",
    "    GA.label[n] = \"%s\" % n.index()\n",
    "    GA.width[n] = Tile_length\n",
    "    GA.height[n] = Tile_length\n",
    "\n",
    "for e in G.edges:\n",
    "    GA.arrowType[e] =0\n",
    "\n",
    "# SL = ogdf.PlanarizationLayout()\n",
    "# SL.call(GA)\n",
    "# GA\n",
    "\n",
    "# Initialize layout components\n",
    "pl = ogdf.PlanarizationLayout()\n",
    "crossMin = ogdf.SubgraphPlanarizer()\n",
    "ps = ogdf.PlanarSubgraphFast[int]()\n",
    "ps.runs(100)\n",
    "ves = ogdf.VariableEmbeddingInserter()\n",
    "ves.removeReinsert(ogdf.RemoveReinsertType.All)\n",
    "\n",
    "# Set up PlanarizationLayout components\n",
    "crossMin.setSubgraph(ps)\n",
    "crossMin.setInserter(ves)\n",
    "pl.setCrossMin(crossMin)\n",
    "\n",
    "# emb = ogdf.EmbedderMinDepthMaxFaceLayers()\n",
    "# pl.setEmbedder(emb)\n",
    "\n",
    "ol = ogdf.OrthoLayout()\n",
    "ol.separation(10.0)\n",
    "ol.cOverhang(0.4)\n",
    "\n",
    "pl.setPlanarLayouter(ol)\n",
    "\n",
    "pl.call(GA)\n",
    "GA"
   ]
  },
  {
   "cell_type": "code",
   "execution_count": null,
   "metadata": {},
   "outputs": [],
   "source": [
    "pl.numberOfCrossings()"
   ]
  },
  {
   "cell_type": "code",
   "execution_count": null,
   "metadata": {},
   "outputs": [],
   "source": [
    "ogdf.GraphIO.write(GA, \"64_complete.gml\")"
   ]
  },
  {
   "cell_type": "code",
   "execution_count": null,
   "metadata": {},
   "outputs": [],
   "source": [
    "def calculate_edge_length(edge):\n",
    "    length = 0\n",
    "    points = edge['graphics']['Line']\n",
    "    for i in range(len(points) - 1):\n",
    "        x1, y1 = points[i]['x'], points[i]['y']\n",
    "        x2, y2 = points[i + 1]['x'], points[i + 1]['y']\n",
    "        length += abs(x2 - x1) + abs(y2 - y1)\n",
    "    return length\n",
    "\n",
    "\n",
    "def read_x_y(line):\n",
    "    # e.g., line = '\\t\\t\\t\\tpoint [ x 230.0000000000 y 540.0000000000 ]\\n'\n",
    "    # Extract x and y values without using re\n",
    "    start_index = line.find('x') + 1\n",
    "    end_index = line.find('y')\n",
    "    x_str = line[start_index:end_index].strip()\n",
    "    y_str = line[end_index + 1 : -3].strip()  # -3 to exclude the closing bracket and newline\n",
    "    # Convert to float\n",
    "    x = float(x_str)\n",
    "    y = float(y_str)\n",
    "    return(x, y)\n",
    "\n",
    "\n",
    "with open('64_complete.gml', 'r') as file:\n",
    "    lines = file.readlines()\n",
    "\n",
    "edges = []\n",
    "current_edge = None\n",
    "\n",
    "for line in lines:\n",
    "    if 'edge' in line:\n",
    "        current_edge = {'graphics': {'Line': []}}\n",
    "    elif 'source' in line and current_edge is not None:\n",
    "        current_edge['source'] = int(line.split()[1])\n",
    "    elif 'target' in line and current_edge is not None:\n",
    "        current_edge['target'] = int(line.split()[1])\n",
    "    elif (']' in line) and (current_edge is not None) and (not ('point' in line)):\n",
    "        edges.append(current_edge)\n",
    "        current_edge = None\n",
    "    elif 'point' in line and current_edge is not None:\n",
    "        # Extract coordinates of points in the line segment\n",
    "        coordinates = read_x_y(line)\n",
    "        point = {'x': coordinates[0], 'y': coordinates[1]}\n",
    "        current_edge['graphics']['Line'].append( point)\n",
    "\n",
    "edge_lengths=[]\n",
    "for edge in edges:\n",
    "    length = calculate_edge_length(edge)\n",
    "    edge_lengths.append(length)\n",
    "    print(f\"Edge from {edge['source']} to {edge['target']} has length: {length}\")\n"
   ]
  },
  {
   "cell_type": "code",
   "execution_count": null,
   "metadata": {},
   "outputs": [],
   "source": [
    "Tile_real_length = 30 #[mm]\n",
    "ratio=Tile_real_length/Tile_length\n",
    "for i in range(len(edge_lengths)):\n",
    "    edge_lengths[i]*=ratio"
   ]
  },
  {
   "cell_type": "code",
   "execution_count": null,
   "metadata": {},
   "outputs": [],
   "source": [
    "edge_lengths"
   ]
  },
  {
   "cell_type": "code",
   "execution_count": null,
   "metadata": {},
   "outputs": [],
   "source": [
    "from statistics import mean\n",
    "mean(edge_lengths)"
   ]
  },
  {
   "cell_type": "code",
   "execution_count": null,
   "metadata": {},
   "outputs": [],
   "source": [
    "max(edge_lengths)"
   ]
  },
  {
   "cell_type": "code",
   "execution_count": null,
   "metadata": {},
   "outputs": [],
   "source": []
  }
 ],
 "metadata": {
  "kernelspec": {
   "display_name": "Python 3",
   "language": "python",
   "name": "python3"
  },
  "language_info": {
   "codemirror_mode": {
    "name": "ipython",
    "version": 3
   },
   "file_extension": ".py",
   "mimetype": "text/x-python",
   "name": "python",
   "nbconvert_exporter": "python",
   "pygments_lexer": "ipython3",
   "version": "3.10.12"
  }
 },
 "nbformat": 4,
 "nbformat_minor": 2
}
