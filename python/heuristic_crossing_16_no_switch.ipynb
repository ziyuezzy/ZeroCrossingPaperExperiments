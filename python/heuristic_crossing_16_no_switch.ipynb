{
 "cells": [
  {
   "cell_type": "markdown",
   "metadata": {},
   "source": [
    "assume initial SNR is 30dB,\n",
    "each crossing gives 0.02dB loss and 37dB crosstalk"
   ]
  },
  {
   "cell_type": "code",
   "execution_count": 3,
   "metadata": {},
   "outputs": [],
   "source": [
    "alpha = 5 #propagation loss coefficient of waveguides [dB/m]\n",
    "D_wafer = 0.3 #lenght of wafer diameter [m]\n",
    "L_crossing = 0.02 #loss of single crossing [dB]\n",
    "XT_crossing = 37 #crosstalk of single crossing [dB]\n",
    "WG_len_max = 1.3 #m\n",
    "WG_len_ave = 0.3 #m "
   ]
  },
  {
   "cell_type": "code",
   "execution_count": 4,
   "metadata": {},
   "outputs": [],
   "source": [
    "import math\n",
    "\n",
    "def SNR_from_crossings(SNR_0, num_cross):\n",
    "    noise_0=math.pow(10.0,-SNR_0/10.0)\n",
    "    noise_crossing=num_cross*math.pow(10.0,-XT_crossing/10.0)\n",
    "    noise=noise_0+noise_crossing\n",
    "    SNR=10*math.log10(1/noise)\n",
    "    return SNR\n",
    "\n",
    "def SNR_from_crossings_with_approximation(SNR_0, num_cross, attenuation):\n",
    "    noise_0=math.pow(10.0,-SNR_0/10.0)\n",
    "    noise_crossing = num_cross*math.pow(10.0,-XT_crossing/10.0)\n",
    "    #attenutaion factor of the signal, averaging between near-TX and near-Rx cases\n",
    "    noise_crossing = noise_crossing * (1+math.pow(10.0,-attenuation/10.0))/2 \n",
    "\n",
    "    noise=noise_0+noise_crossing\n",
    "    SNR=10*math.log10(1/noise)\n",
    "    return SNR"
   ]
  },
  {
   "cell_type": "code",
   "execution_count": 7,
   "metadata": {},
   "outputs": [
    {
     "name": "stdout",
     "output_type": "stream",
     "text": [
      "for 960 GBps per GPU bandwidth, ave wg crossing is 9.8\n",
      "for 960 GBps per GPU bandwidth, ave loss is 1.696 dB\n",
      "for 960 GBps per GPU bandwidth, approximated SNR is estimated as 25.785146281453017 dB\n",
      "=======\n",
      "for 1920 GBps per GPU bandwidth, ave wg crossing is 19.7\n",
      "for 1920 GBps per GPU bandwidth, ave loss is 1.8940000000000001 dB\n",
      "for 1920 GBps per GPU bandwidth, approximated SNR is estimated as 23.730426659192144 dB\n",
      "=======\n",
      "for 2880 GBps per GPU bandwidth, ave wg crossing is 29.5\n",
      "for 2880 GBps per GPU bandwidth, ave loss is 2.09 dB\n",
      "for 2880 GBps per GPU bandwidth, approximated SNR is estimated as 22.394386894242256 dB\n",
      "=======\n",
      "for 3840 GBps per GPU bandwidth, ave wg crossing is 39.4\n",
      "for 3840 GBps per GPU bandwidth, ave loss is 2.2880000000000003 dB\n",
      "for 3840 GBps per GPU bandwidth, approximated SNR is estimated as 21.395650145999262 dB\n",
      "=======\n"
     ]
    }
   ],
   "source": [
    "averages = [9.8, 19.7,29.5, 39.4]\n",
    "\n",
    "# print(\"worst case\")\n",
    "# BWs=[960]\n",
    "BWs=[960, 960*2, 960*3, 960*4]\n",
    "for f, bw in enumerate(BWs):\n",
    "    average_crossings=averages[f]\n",
    "    print(f\"for {bw} GBps per GPU bandwidth, ave wg crossing is {average_crossings}\")\n",
    "    L_ave=alpha*WG_len_ave+average_crossings*L_crossing\n",
    "    print(f\"for {bw} GBps per GPU bandwidth, ave loss is {L_ave} dB\")\n",
    "    # print(f\"for {bw} GBps per GPU bandwidth, pessimistic ave-waveguide SNR is estimated as {SNR_from_crossings(30, average_crossings)} dB\")\n",
    "    print(f\"for {bw} GBps per GPU bandwidth, approximated SNR is estimated as {SNR_from_crossings_with_approximation(30, average_crossings, L_ave)} dB\")\n",
    "    print(\"=======\")\n"
   ]
  },
  {
   "cell_type": "code",
   "execution_count": null,
   "metadata": {},
   "outputs": [],
   "source": []
  }
 ],
 "metadata": {
  "kernelspec": {
   "display_name": "Python 3",
   "language": "python",
   "name": "python3"
  },
  "language_info": {
   "codemirror_mode": {
    "name": "ipython",
    "version": 3
   },
   "file_extension": ".py",
   "mimetype": "text/x-python",
   "name": "python",
   "nbconvert_exporter": "python",
   "pygments_lexer": "ipython3",
   "version": "3.10.12"
  },
  "orig_nbformat": 4
 },
 "nbformat": 4,
 "nbformat_minor": 2
}
