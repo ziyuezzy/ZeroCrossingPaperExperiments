{
 "cells": [
  {
   "cell_type": "code",
   "execution_count": null,
   "metadata": {},
   "outputs": [],
   "source": [
    "# %matplotlib widget\n",
    "# uncomment the above line if you want the interactive display\n",
    "\n",
    "from ogdf_python import *\n",
    "cppinclude(\"ogdf/basic/graph_generators/randomized.h\")\n",
    "cppinclude(\"ogdf/layered/SugiyamaLayout.h\")\n",
    "\n",
    "G = ogdf.Graph()\n",
    "ogdf.setSeed(1)\n",
    "ogdf.randomPlanarTriconnectedGraph(G, 20, 40)\n",
    "GA = ogdf.GraphAttributes(G, ogdf.GraphAttributes.all)\n",
    "\n",
    "for n in G.nodes:\n",
    "    GA.label[n] = \"N%s\" % n.index()\n",
    "\n",
    "SL = ogdf.SugiyamaLayout()\n",
    "SL.call(GA)\n",
    "GA"
   ]
  },
  {
   "cell_type": "code",
   "execution_count": null,
   "metadata": {},
   "outputs": [],
   "source": [
    "int main()\n",
    "{\n",
    "    Graph G; #completeGraph\n",
    "    GraphAttributes GA(G,\n",
    "      GraphAttributes::nodeGraphics | GraphAttributes::nodeType |\n",
    "      GraphAttributes::edgeGraphics | GraphAttributes::edgeType);\n",
    " \n",
    "    if (!GraphIO::read(GA, G, \"ERDiagram.gml\", GraphIO::readGML)) {\n",
    "        std::cerr << \"Could not read ERDiagram.gml\" << std::endl;\n",
    "        return 1;\n",
    "    }\n",
    " \n",
    "    for (node v : G.nodes)\n",
    "    {\n",
    "        GA.width(v) /= 2;\n",
    "        GA.height(v) /= 2;\n",
    "    }\n",
    " \n",
    "    PlanarizationLayout pl;\n",
    " \n",
    "    SubgraphPlanarizer *crossMin = new SubgraphPlanarizer;\n",
    "    PlanarSubgraphFast<int> *ps = new PlanarSubgraphFast<int>;\n",
    "    ps->runs(100);\n",
    "    VariableEmbeddingInserter *ves = new VariableEmbeddingInserter;\n",
    "    ves->removeReinsert(RemoveReinsertType::All);\n",
    " \n",
    "    crossMin->setSubgraph(ps);\n",
    "    crossMin->setInserter(ves);\n",
    "    pl.setCrossMin(crossMin);\n",
    " \n",
    "    EmbedderMinDepthMaxFaceLayers *emb = new EmbedderMinDepthMaxFaceLayers;\n",
    "    pl.setEmbedder(emb);\n",
    " \n",
    "    OrthoLayout *ol = new OrthoLayout;\n",
    "    ol->separation(20.0);\n",
    "    ol->cOverhang(0.4);\n",
    "    pl.setPlanarLayouter(ol);\n",
    " \n",
    "    pl.call(GA);\n",
    " \n",
    "    GraphIO::write(GA, \"output-ERDiagram.gml\", GraphIO::writeGML);\n",
    "    GraphIO::write(GA, \"output-ERDiagram.svg\", GraphIO::drawSVG);\n",
    " \n",
    "    return 0;"
   ]
  },
  {
   "cell_type": "code",
   "execution_count": 2,
   "metadata": {},
   "outputs": [],
   "source": [
    "for i in range(2,2):\n",
    "    print(i)"
   ]
  },
  {
   "cell_type": "code",
   "execution_count": null,
   "metadata": {},
   "outputs": [],
   "source": []
  }
 ],
 "metadata": {
  "kernelspec": {
   "display_name": "Python 3",
   "language": "python",
   "name": "python3"
  },
  "language_info": {
   "codemirror_mode": {
    "name": "ipython",
    "version": 3
   },
   "file_extension": ".py",
   "mimetype": "text/x-python",
   "name": "python",
   "nbconvert_exporter": "python",
   "pygments_lexer": "ipython3",
   "version": "3.10.13"
  }
 },
 "nbformat": 4,
 "nbformat_minor": 2
}
